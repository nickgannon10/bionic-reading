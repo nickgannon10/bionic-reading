{
 "cells": [
  {
   "cell_type": "code",
   "execution_count": 4,
   "id": "716c697c",
   "metadata": {},
   "outputs": [
    {
     "ename": "ModuleNotFoundError",
     "evalue": "No module named 'Markdown'",
     "output_type": "error",
     "traceback": [
      "\u001b[0;31m---------------------------------------------------------------------------\u001b[0m",
      "\u001b[0;31mModuleNotFoundError\u001b[0m                       Traceback (most recent call last)",
      "Cell \u001b[0;32mIn [4], line 2\u001b[0m\n\u001b[1;32m      1\u001b[0m \u001b[38;5;28;01mimport\u001b[39;00m \u001b[38;5;21;01mmath\u001b[39;00m\n\u001b[0;32m----> 2\u001b[0m \u001b[38;5;28;01mimport\u001b[39;00m \u001b[38;5;21;01mMarkdown\u001b[39;00m\n\u001b[1;32m      4\u001b[0m \u001b[38;5;28;01mdef\u001b[39;00m \u001b[38;5;21mbold_first_half\u001b[39m(string):\n\u001b[1;32m      5\u001b[0m     x \u001b[38;5;241m=\u001b[39m \u001b[38;5;28mlen\u001b[39m(string)\n",
      "\u001b[0;31mModuleNotFoundError\u001b[0m: No module named 'Markdown'"
     ]
    }
   ],
   "source": [
    "import math\n",
    "import Markdown\n",
    "\n",
    "def bold_first_half(string):\n",
    "    x = len(string)\n",
    "    # for case 1\n",
    "    if x < 4:\n",
    "        y = math.floor(x / 2)\n",
    "    # for case 2\n",
    "    else:\n",
    "        y = math.ceil(x / 2)\n",
    "\n",
    "    # Creating the output with the first 'y' characters in bold\n",
    "    bolded_string = \"**\" + string[:y] + \"**\" + string[y:]\n",
    "    return bolded_string\n",
    "\n",
    "# Test the function\n",
    "md_string = \"strings\"\n",
    "\n",
    "Markdown(bold_first_half(md_string))"
   ]
  },
  {
   "cell_type": "markdown",
   "id": "b45d8687",
   "metadata": {},
   "source": [
    "**some_s**tring"
   ]
  },
  {
   "cell_type": "code",
   "execution_count": 5,
   "id": "750be3dd",
   "metadata": {},
   "outputs": [
    {
     "name": "stdout",
     "output_type": "stream",
     "text": [
      "**H**i **h**ow **a**re **y**ou\n"
     ]
    }
   ],
   "source": [
    "import math\n",
    "\n",
    "def bold_first_half(string):\n",
    "    x = len(string)\n",
    "    # for case 1\n",
    "    if x < 4:\n",
    "        y = math.floor(x / 2)\n",
    "    # for case 2\n",
    "    else:\n",
    "        y = math.ceil(x / 2)\n",
    "\n",
    "    # Creating the output with the first 'y' characters in bold\n",
    "    bolded_string = \"**\" + string[:y] + \"**\" + string[y:]\n",
    "    return bolded_string\n",
    "\n",
    "def process_string(input_string):\n",
    "    # Splitting the string into words\n",
    "    words = input_string.split()\n",
    "\n",
    "    # Applying the bold_first_half function to each word\n",
    "    bolded_words = [bold_first_half(word) for word in words]\n",
    "\n",
    "    # Joining the words back into a single string with spaces\n",
    "    output_string = \" \".join(bolded_words)\n",
    "    return output_string\n",
    "\n",
    "# Test the function\n",
    "print(process_string(\"Hi how are you\"))\n"
   ]
  },
  {
   "cell_type": "code",
   "execution_count": null,
   "id": "e64e15a8",
   "metadata": {},
   "outputs": [],
   "source": []
  }
 ],
 "metadata": {
  "kernelspec": {
   "display_name": "Python 3.9 (pytorch)",
   "language": "python",
   "name": "pytorch"
  },
  "language_info": {
   "codemirror_mode": {
    "name": "ipython",
    "version": 3
   },
   "file_extension": ".py",
   "mimetype": "text/x-python",
   "name": "python",
   "nbconvert_exporter": "python",
   "pygments_lexer": "ipython3",
   "version": "3.9.13"
  }
 },
 "nbformat": 4,
 "nbformat_minor": 5
}
